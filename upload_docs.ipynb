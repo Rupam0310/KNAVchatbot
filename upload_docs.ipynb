{
 "cells": [
  {
   "cell_type": "markdown",
   "metadata": {},
   "source": [
    "### IMPORTS"
   ]
  },
  {
   "cell_type": "code",
   "execution_count": 9,
   "metadata": {},
   "outputs": [
    {
     "name": "stdout",
     "output_type": "stream",
     "text": [
      "Collecting azure-identity==1.13.0b4\n",
      "  Using cached azure_identity-1.13.0b4-py3-none-any.whl.metadata (65 kB)\n",
      "Collecting azure-core<2.0.0,>=1.11.0 (from azure-identity==1.13.0b4)\n",
      "  Using cached azure_core-1.34.0-py3-none-any.whl.metadata (42 kB)\n",
      "Requirement already satisfied: cryptography>=2.5 in c:\\users\\rupam patil\\appdata\\local\\programs\\python\\python313\\lib\\site-packages (from azure-identity==1.13.0b4) (44.0.0)\n",
      "Collecting msal<2.0.0,>=1.20.0 (from azure-identity==1.13.0b4)\n",
      "  Using cached msal-1.32.3-py3-none-any.whl.metadata (11 kB)\n",
      "Collecting msal-extensions<2.0.0,>=0.3.0 (from azure-identity==1.13.0b4)\n",
      "  Using cached msal_extensions-1.3.1-py3-none-any.whl.metadata (7.8 kB)\n",
      "Requirement already satisfied: six>=1.12.0 in c:\\users\\rupam patil\\appdata\\roaming\\python\\python313\\site-packages (from azure-identity==1.13.0b4) (1.16.0)\n",
      "Requirement already satisfied: requests>=2.21.0 in c:\\users\\rupam patil\\appdata\\local\\programs\\python\\python313\\lib\\site-packages (from azure-core<2.0.0,>=1.11.0->azure-identity==1.13.0b4) (2.32.3)\n",
      "Requirement already satisfied: typing-extensions>=4.6.0 in c:\\users\\rupam patil\\appdata\\local\\programs\\python\\python313\\lib\\site-packages (from azure-core<2.0.0,>=1.11.0->azure-identity==1.13.0b4) (4.12.2)\n",
      "Requirement already satisfied: cffi>=1.12 in c:\\users\\rupam patil\\appdata\\local\\programs\\python\\python313\\lib\\site-packages (from cryptography>=2.5->azure-identity==1.13.0b4) (1.17.1)\n",
      "Requirement already satisfied: PyJWT<3,>=1.0.0 in c:\\users\\rupam patil\\appdata\\local\\programs\\python\\python313\\lib\\site-packages (from PyJWT[crypto]<3,>=1.0.0->msal<2.0.0,>=1.20.0->azure-identity==1.13.0b4) (2.10.1)\n",
      "Requirement already satisfied: pycparser in c:\\users\\rupam patil\\appdata\\local\\programs\\python\\python313\\lib\\site-packages (from cffi>=1.12->cryptography>=2.5->azure-identity==1.13.0b4) (2.22)\n",
      "Requirement already satisfied: charset-normalizer<4,>=2 in c:\\users\\rupam patil\\appdata\\local\\programs\\python\\python313\\lib\\site-packages (from requests>=2.21.0->azure-core<2.0.0,>=1.11.0->azure-identity==1.13.0b4) (3.4.0)\n",
      "Requirement already satisfied: idna<4,>=2.5 in c:\\users\\rupam patil\\appdata\\local\\programs\\python\\python313\\lib\\site-packages (from requests>=2.21.0->azure-core<2.0.0,>=1.11.0->azure-identity==1.13.0b4) (3.10)\n",
      "Requirement already satisfied: urllib3<3,>=1.21.1 in c:\\users\\rupam patil\\appdata\\local\\programs\\python\\python313\\lib\\site-packages (from requests>=2.21.0->azure-core<2.0.0,>=1.11.0->azure-identity==1.13.0b4) (2.2.3)\n",
      "Requirement already satisfied: certifi>=2017.4.17 in c:\\users\\rupam patil\\appdata\\local\\programs\\python\\python313\\lib\\site-packages (from requests>=2.21.0->azure-core<2.0.0,>=1.11.0->azure-identity==1.13.0b4) (2024.8.30)\n",
      "Using cached azure_identity-1.13.0b4-py3-none-any.whl (144 kB)\n",
      "Using cached azure_core-1.34.0-py3-none-any.whl (207 kB)\n",
      "Using cached msal-1.32.3-py3-none-any.whl (115 kB)\n",
      "Using cached msal_extensions-1.3.1-py3-none-any.whl (20 kB)\n",
      "Installing collected packages: azure-core, msal, msal-extensions, azure-identity\n",
      "Successfully installed azure-core-1.34.0 azure-identity-1.13.0b4 msal-1.32.3 msal-extensions-1.3.1\n",
      "Note: you may need to restart the kernel to use updated packages.\n"
     ]
    },
    {
     "name": "stderr",
     "output_type": "stream",
     "text": [
      "\n",
      "[notice] A new release of pip is available: 25.0.1 -> 25.1.1\n",
      "[notice] To update, run: python.exe -m pip install --upgrade pip\n"
     ]
    }
   ],
   "source": [
    "%pip install azure-identity==1.13.0b4"
   ]
  },
  {
   "cell_type": "code",
   "execution_count": 10,
   "metadata": {},
   "outputs": [
    {
     "name": "stdout",
     "output_type": "stream",
     "text": [
      "Collecting azure-search-documents==11.4.0b3\n",
      "  Using cached azure_search_documents-11.4.0b3-py3-none-any.whl.metadata (18 kB)\n",
      "Requirement already satisfied: azure-core<2.0.0,>=1.24.0 in c:\\users\\rupam patil\\appdata\\local\\programs\\python\\python313\\lib\\site-packages (from azure-search-documents==11.4.0b3) (1.34.0)\n",
      "Collecting azure-common~=1.1 (from azure-search-documents==11.4.0b3)\n",
      "  Using cached azure_common-1.1.28-py2.py3-none-any.whl.metadata (5.0 kB)\n",
      "Collecting isodate>=0.6.0 (from azure-search-documents==11.4.0b3)\n",
      "  Using cached isodate-0.7.2-py3-none-any.whl.metadata (11 kB)\n",
      "Requirement already satisfied: requests>=2.21.0 in c:\\users\\rupam patil\\appdata\\local\\programs\\python\\python313\\lib\\site-packages (from azure-core<2.0.0,>=1.24.0->azure-search-documents==11.4.0b3) (2.32.3)\n",
      "Requirement already satisfied: six>=1.11.0 in c:\\users\\rupam patil\\appdata\\roaming\\python\\python313\\site-packages (from azure-core<2.0.0,>=1.24.0->azure-search-documents==11.4.0b3) (1.16.0)\n",
      "Requirement already satisfied: typing-extensions>=4.6.0 in c:\\users\\rupam patil\\appdata\\local\\programs\\python\\python313\\lib\\site-packages (from azure-core<2.0.0,>=1.24.0->azure-search-documents==11.4.0b3) (4.12.2)\n",
      "Requirement already satisfied: charset-normalizer<4,>=2 in c:\\users\\rupam patil\\appdata\\local\\programs\\python\\python313\\lib\\site-packages (from requests>=2.21.0->azure-core<2.0.0,>=1.24.0->azure-search-documents==11.4.0b3) (3.4.0)\n",
      "Requirement already satisfied: idna<4,>=2.5 in c:\\users\\rupam patil\\appdata\\local\\programs\\python\\python313\\lib\\site-packages (from requests>=2.21.0->azure-core<2.0.0,>=1.24.0->azure-search-documents==11.4.0b3) (3.10)\n",
      "Requirement already satisfied: urllib3<3,>=1.21.1 in c:\\users\\rupam patil\\appdata\\local\\programs\\python\\python313\\lib\\site-packages (from requests>=2.21.0->azure-core<2.0.0,>=1.24.0->azure-search-documents==11.4.0b3) (2.2.3)\n",
      "Requirement already satisfied: certifi>=2017.4.17 in c:\\users\\rupam patil\\appdata\\local\\programs\\python\\python313\\lib\\site-packages (from requests>=2.21.0->azure-core<2.0.0,>=1.24.0->azure-search-documents==11.4.0b3) (2024.8.30)\n",
      "Using cached azure_search_documents-11.4.0b3-py3-none-any.whl (296 kB)\n",
      "Using cached azure_common-1.1.28-py2.py3-none-any.whl (14 kB)\n",
      "Using cached isodate-0.7.2-py3-none-any.whl (22 kB)\n",
      "Installing collected packages: azure-common, isodate, azure-search-documents\n",
      "Successfully installed azure-common-1.1.28 azure-search-documents-11.4.0b3 isodate-0.7.2\n",
      "Note: you may need to restart the kernel to use updated packages.\n"
     ]
    },
    {
     "name": "stderr",
     "output_type": "stream",
     "text": [
      "\n",
      "[notice] A new release of pip is available: 25.0.1 -> 25.1.1\n",
      "[notice] To update, run: python.exe -m pip install --upgrade pip\n"
     ]
    }
   ],
   "source": [
    "%pip install azure-search-documents==11.4.0b3"
   ]
  },
  {
   "cell_type": "code",
   "execution_count": 12,
   "metadata": {},
   "outputs": [
    {
     "name": "stdout",
     "output_type": "stream",
     "text": [
      "Collecting azure-storage-blob==12.14.1\n",
      "  Using cached azure_storage_blob-12.14.1-py3-none-any.whl.metadata (26 kB)\n",
      "Requirement already satisfied: azure-core<2.0.0,>=1.24.2 in c:\\users\\rupam patil\\appdata\\local\\programs\\python\\python313\\lib\\site-packages (from azure-storage-blob==12.14.1) (1.34.0)\n",
      "Requirement already satisfied: msrest>=0.7.1 in c:\\users\\rupam patil\\appdata\\local\\programs\\python\\python313\\lib\\site-packages (from azure-storage-blob==12.14.1) (0.7.1)\n",
      "Requirement already satisfied: cryptography>=2.1.4 in c:\\users\\rupam patil\\appdata\\local\\programs\\python\\python313\\lib\\site-packages (from azure-storage-blob==12.14.1) (44.0.0)\n",
      "Requirement already satisfied: requests>=2.21.0 in c:\\users\\rupam patil\\appdata\\local\\programs\\python\\python313\\lib\\site-packages (from azure-core<2.0.0,>=1.24.2->azure-storage-blob==12.14.1) (2.32.3)\n",
      "Requirement already satisfied: six>=1.11.0 in c:\\users\\rupam patil\\appdata\\roaming\\python\\python313\\site-packages (from azure-core<2.0.0,>=1.24.2->azure-storage-blob==12.14.1) (1.16.0)\n",
      "Requirement already satisfied: typing-extensions>=4.6.0 in c:\\users\\rupam patil\\appdata\\local\\programs\\python\\python313\\lib\\site-packages (from azure-core<2.0.0,>=1.24.2->azure-storage-blob==12.14.1) (4.12.2)\n",
      "Requirement already satisfied: cffi>=1.12 in c:\\users\\rupam patil\\appdata\\local\\programs\\python\\python313\\lib\\site-packages (from cryptography>=2.1.4->azure-storage-blob==12.14.1) (1.17.1)\n",
      "Requirement already satisfied: certifi>=2017.4.17 in c:\\users\\rupam patil\\appdata\\local\\programs\\python\\python313\\lib\\site-packages (from msrest>=0.7.1->azure-storage-blob==12.14.1) (2024.8.30)\n",
      "Requirement already satisfied: isodate>=0.6.0 in c:\\users\\rupam patil\\appdata\\local\\programs\\python\\python313\\lib\\site-packages (from msrest>=0.7.1->azure-storage-blob==12.14.1) (0.7.2)\n",
      "Requirement already satisfied: requests-oauthlib>=0.5.0 in c:\\users\\rupam patil\\appdata\\local\\programs\\python\\python313\\lib\\site-packages (from msrest>=0.7.1->azure-storage-blob==12.14.1) (2.0.0)\n",
      "Requirement already satisfied: pycparser in c:\\users\\rupam patil\\appdata\\local\\programs\\python\\python313\\lib\\site-packages (from cffi>=1.12->cryptography>=2.1.4->azure-storage-blob==12.14.1) (2.22)\n",
      "Requirement already satisfied: charset-normalizer<4,>=2 in c:\\users\\rupam patil\\appdata\\local\\programs\\python\\python313\\lib\\site-packages (from requests>=2.21.0->azure-core<2.0.0,>=1.24.2->azure-storage-blob==12.14.1) (3.4.0)\n",
      "Requirement already satisfied: idna<4,>=2.5 in c:\\users\\rupam patil\\appdata\\local\\programs\\python\\python313\\lib\\site-packages (from requests>=2.21.0->azure-core<2.0.0,>=1.24.2->azure-storage-blob==12.14.1) (3.10)\n",
      "Requirement already satisfied: urllib3<3,>=1.21.1 in c:\\users\\rupam patil\\appdata\\local\\programs\\python\\python313\\lib\\site-packages (from requests>=2.21.0->azure-core<2.0.0,>=1.24.2->azure-storage-blob==12.14.1) (2.2.3)\n",
      "Requirement already satisfied: oauthlib>=3.0.0 in c:\\users\\rupam patil\\appdata\\local\\programs\\python\\python313\\lib\\site-packages (from requests-oauthlib>=0.5.0->msrest>=0.7.1->azure-storage-blob==12.14.1) (3.2.2)\n",
      "Using cached azure_storage_blob-12.14.1-py3-none-any.whl (383 kB)\n",
      "Installing collected packages: azure-storage-blob\n",
      "Successfully installed azure-storage-blob-12.14.1\n",
      "Note: you may need to restart the kernel to use updated packages.\n"
     ]
    },
    {
     "name": "stderr",
     "output_type": "stream",
     "text": [
      "\n",
      "[notice] A new release of pip is available: 25.0.1 -> 25.1.1\n",
      "[notice] To update, run: python.exe -m pip install --upgrade pip\n"
     ]
    }
   ],
   "source": [
    "%pip install azure-storage-blob==12.14.1"
   ]
  },
  {
   "cell_type": "code",
   "execution_count": 11,
   "metadata": {},
   "outputs": [
    {
     "name": "stdout",
     "output_type": "stream",
     "text": [
      "Collecting azure-ai-formrecognizer==3.2.1\n",
      "  Using cached azure_ai_formrecognizer-3.2.1-py3-none-any.whl.metadata (57 kB)\n",
      "Requirement already satisfied: azure-core<2.0.0,>=1.23.0 in c:\\users\\rupam patil\\appdata\\local\\programs\\python\\python313\\lib\\site-packages (from azure-ai-formrecognizer==3.2.1) (1.34.0)\n",
      "Collecting msrest>=0.6.21 (from azure-ai-formrecognizer==3.2.1)\n",
      "  Using cached msrest-0.7.1-py3-none-any.whl.metadata (21 kB)\n",
      "Requirement already satisfied: azure-common~=1.1 in c:\\users\\rupam patil\\appdata\\local\\programs\\python\\python313\\lib\\site-packages (from azure-ai-formrecognizer==3.2.1) (1.1.28)\n",
      "Requirement already satisfied: typing-extensions>=4.0.1 in c:\\users\\rupam patil\\appdata\\local\\programs\\python\\python313\\lib\\site-packages (from azure-ai-formrecognizer==3.2.1) (4.12.2)\n",
      "Requirement already satisfied: requests>=2.21.0 in c:\\users\\rupam patil\\appdata\\local\\programs\\python\\python313\\lib\\site-packages (from azure-core<2.0.0,>=1.23.0->azure-ai-formrecognizer==3.2.1) (2.32.3)\n",
      "Requirement already satisfied: six>=1.11.0 in c:\\users\\rupam patil\\appdata\\roaming\\python\\python313\\site-packages (from azure-core<2.0.0,>=1.23.0->azure-ai-formrecognizer==3.2.1) (1.16.0)\n",
      "Requirement already satisfied: certifi>=2017.4.17 in c:\\users\\rupam patil\\appdata\\local\\programs\\python\\python313\\lib\\site-packages (from msrest>=0.6.21->azure-ai-formrecognizer==3.2.1) (2024.8.30)\n",
      "Requirement already satisfied: isodate>=0.6.0 in c:\\users\\rupam patil\\appdata\\local\\programs\\python\\python313\\lib\\site-packages (from msrest>=0.6.21->azure-ai-formrecognizer==3.2.1) (0.7.2)\n",
      "Collecting requests-oauthlib>=0.5.0 (from msrest>=0.6.21->azure-ai-formrecognizer==3.2.1)\n",
      "  Using cached requests_oauthlib-2.0.0-py2.py3-none-any.whl.metadata (11 kB)\n",
      "Requirement already satisfied: charset-normalizer<4,>=2 in c:\\users\\rupam patil\\appdata\\local\\programs\\python\\python313\\lib\\site-packages (from requests>=2.21.0->azure-core<2.0.0,>=1.23.0->azure-ai-formrecognizer==3.2.1) (3.4.0)\n",
      "Requirement already satisfied: idna<4,>=2.5 in c:\\users\\rupam patil\\appdata\\local\\programs\\python\\python313\\lib\\site-packages (from requests>=2.21.0->azure-core<2.0.0,>=1.23.0->azure-ai-formrecognizer==3.2.1) (3.10)\n",
      "Requirement already satisfied: urllib3<3,>=1.21.1 in c:\\users\\rupam patil\\appdata\\local\\programs\\python\\python313\\lib\\site-packages (from requests>=2.21.0->azure-core<2.0.0,>=1.23.0->azure-ai-formrecognizer==3.2.1) (2.2.3)\n",
      "Collecting oauthlib>=3.0.0 (from requests-oauthlib>=0.5.0->msrest>=0.6.21->azure-ai-formrecognizer==3.2.1)\n",
      "  Using cached oauthlib-3.2.2-py3-none-any.whl.metadata (7.5 kB)\n",
      "Using cached azure_ai_formrecognizer-3.2.1-py3-none-any.whl (228 kB)\n",
      "Using cached msrest-0.7.1-py3-none-any.whl (85 kB)\n",
      "Using cached requests_oauthlib-2.0.0-py2.py3-none-any.whl (24 kB)\n",
      "Using cached oauthlib-3.2.2-py3-none-any.whl (151 kB)\n",
      "Installing collected packages: oauthlib, requests-oauthlib, msrest, azure-ai-formrecognizer\n",
      "Successfully installed azure-ai-formrecognizer-3.2.1 msrest-0.7.1 oauthlib-3.2.2 requests-oauthlib-2.0.0\n",
      "Note: you may need to restart the kernel to use updated packages.\n"
     ]
    },
    {
     "name": "stderr",
     "output_type": "stream",
     "text": [
      "\n",
      "[notice] A new release of pip is available: 25.0.1 -> 25.1.1\n",
      "[notice] To update, run: python.exe -m pip install --upgrade pip\n"
     ]
    }
   ],
   "source": [
    "%pip install azure-ai-formrecognizer==3.2.1"
   ]
  },
  {
   "cell_type": "code",
   "execution_count": null,
   "metadata": {},
   "outputs": [
    {
     "name": "stdout",
     "output_type": "stream",
     "text": [
      "Collecting pypdfNote: you may need to restart the kernel to use updated packages.\n",
      "\n",
      "  Using cached pypdf-5.6.0-py3-none-any.whl.metadata (7.2 kB)\n",
      "Using cached pypdf-5.6.0-py3-none-any.whl (304 kB)\n",
      "Installing collected packages: pypdf\n",
      "Successfully installed pypdf-5.6.0\n"
     ]
    },
    {
     "name": "stderr",
     "output_type": "stream",
     "text": [
      "\n",
      "[notice] A new release of pip is available: 25.0.1 -> 25.1.1\n",
      "[notice] To update, run: python.exe -m pip install --upgrade pip\n"
     ]
    }
   ],
   "source": [
    "%pip install pypdf\n",
    "\n"
   ]
  },
  {
   "cell_type": "code",
   "execution_count": 2,
   "metadata": {},
   "outputs": [],
   "source": [
    "import os\n",
    "import argparse\n",
    "import glob\n",
    "import html\n",
    "import io\n",
    "import re\n",
    "import time\n",
    "from pypdf import PdfReader, PdfWriter\n",
    "from azure.identity import AzureDeveloperCliCredential\n",
    "from azure.core.credentials import AzureKeyCredential\n",
    "from azure.storage.blob import BlobServiceClient\n",
    "from azure.search.documents.indexes import SearchIndexClient\n",
    "from azure.search.documents.indexes.models import *\n",
    "from azure.search.documents import SearchClient\n",
    "from azure.ai.formrecognizer import DocumentAnalysisClient"
   ]
  },
  {
   "cell_type": "code",
   "execution_count": 6,
   "metadata": {},
   "outputs": [],
   "source": [
    "from config import *"
   ]
  },
  {
   "cell_type": "code",
   "execution_count": 7,
   "metadata": {},
   "outputs": [],
   "source": [
    "search_creds = AzureKeyCredential(searchkey)\n",
    "storage_creds = storagekey"
   ]
  },
  {
   "cell_type": "code",
   "execution_count": 8,
   "metadata": {},
   "outputs": [],
   "source": [
    "MAX_SECTION_LENGTH = 1000\n",
    "SENTENCE_SEARCH_LIMIT = 100\n",
    "SECTION_OVERLAP = 100"
   ]
  },
  {
   "cell_type": "markdown",
   "metadata": {},
   "source": [
    "### FUNCTIONS"
   ]
  },
  {
   "cell_type": "code",
   "execution_count": 9,
   "metadata": {},
   "outputs": [],
   "source": [
    "def blob_name_from_file_page(filename, page = 0):\n",
    "    if os.path.splitext(filename)[1].lower() == \".pdf\":\n",
    "        return os.path.splitext(os.path.basename(filename))[0] + f\"-{page}\" + \".pdf\"\n",
    "    else:\n",
    "        return os.path.basename(filename)"
   ]
  },
  {
   "cell_type": "code",
   "execution_count": 10,
   "metadata": {},
   "outputs": [],
   "source": [
    "def upload_blobs(filename):\n",
    "    blob_service = BlobServiceClient(account_url=f\"https://{storageaccount}.blob.core.windows.net\", credential=storage_creds)\n",
    "    blob_container = blob_service.get_container_client(container)\n",
    "    if not blob_container.exists():\n",
    "        blob_container.create_container()\n",
    "\n",
    "    # if file is PDF split into pages and upload each page as a separate blob\n",
    "    if os.path.splitext(filename)[1].lower() == \".pdf\":\n",
    "        reader = PdfReader(filename)\n",
    "        pages = reader.pages\n",
    "        for i in range(len(pages)):\n",
    "            blob_name = blob_name_from_file_page(filename, i)\n",
    "            if verbose: print(f\"\\tUploading blob for page {i} -> {blob_name}\")\n",
    "            f = io.BytesIO()\n",
    "            writer = PdfWriter()\n",
    "            writer.add_page(pages[i])\n",
    "            writer.write(f)\n",
    "            f.seek(0)\n",
    "            blob_container.upload_blob(blob_name, f, overwrite=True)\n",
    "    else:\n",
    "        blob_name = blob_name_from_file_page(filename)\n",
    "        with open(filename,\"rb\") as data:\n",
    "            blob_container.upload_blob(blob_name, data, overwrite=True)\n",
    "\n",
    "\n",
    "def table_to_html(table):\n",
    "    table_html = \"<table>\"\n",
    "    rows = [sorted([cell for cell in table.cells if cell.row_index == i], key=lambda cell: cell.column_index) for i in range(table.row_count)]\n",
    "    for row_cells in rows:\n",
    "        table_html += \"<tr>\"\n",
    "        for cell in row_cells:\n",
    "            tag = \"th\" if (cell.kind == \"columnHeader\" or cell.kind == \"rowHeader\") else \"td\"\n",
    "            cell_spans = \"\"\n",
    "            if cell.column_span > 1: cell_spans += f\" colSpan={cell.column_span}\"\n",
    "            if cell.row_span > 1: cell_spans += f\" rowSpan={cell.row_span}\"\n",
    "            table_html += f\"<{tag}{cell_spans}>{html.escape(cell.content)}</{tag}>\"\n",
    "        table_html +=\"</tr>\"\n",
    "    table_html += \"</table>\"\n",
    "    return table_html\n",
    "\n",
    "def get_document_text(filename):\n",
    "    offset = 0\n",
    "    page_map = []\n",
    "    if localpdfparser:\n",
    "        reader = PdfReader(filename)\n",
    "        pages = reader.pages\n",
    "        for page_num, p in enumerate(pages):\n",
    "            page_text = p.extract_text()\n",
    "            page_map.append((page_num, offset, page_text))\n",
    "            offset += len(page_text)\n",
    "    else:\n",
    "        if verbose: print(f\"Extracting text from '{filename}' using Azure Form Recognizer\")\n",
    "        form_recognizer_client = DocumentAnalysisClient(endpoint=f\"https://{formrecognizerservice}.cognitiveservices.azure.com/\", credential=formrecognizer_creds, headers={\"x-ms-useragent\": \"azure-search-chat-demo/1.0.0\"})\n",
    "        with open(filename, \"rb\") as f:\n",
    "            poller = form_recognizer_client.begin_analyze_document(\"prebuilt-layout\", document = f)\n",
    "        form_recognizer_results = poller.result()\n",
    "\n",
    "        for page_num, page in enumerate(form_recognizer_results.pages):\n",
    "            tables_on_page = [table for table in form_recognizer_results.tables if table.bounding_regions[0].page_number == page_num + 1]\n",
    "\n",
    "            # mark all positions of the table spans in the page\n",
    "            page_offset = page.spans[0].offset\n",
    "            page_length = page.spans[0].length\n",
    "            table_chars = [-1]*page_length\n",
    "            for table_id, table in enumerate(tables_on_page):\n",
    "                for span in table.spans:\n",
    "                    # replace all table spans with \"table_id\" in table_chars array\n",
    "                    for i in range(span.length):\n",
    "                        idx = span.offset - page_offset + i\n",
    "                        if idx >=0 and idx < page_length:\n",
    "                            table_chars[idx] = table_id\n",
    "\n",
    "            # build page text by replacing charcters in table spans with table html\n",
    "            page_text = \"\"\n",
    "            added_tables = set()\n",
    "            for idx, table_id in enumerate(table_chars):\n",
    "                if table_id == -1:\n",
    "                    page_text += form_recognizer_results.content[page_offset + idx]\n",
    "                elif not table_id in added_tables:\n",
    "                    page_text += table_to_html(tables_on_page[table_id])\n",
    "                    added_tables.add(table_id)\n",
    "\n",
    "            page_text += \" \"\n",
    "            page_map.append((page_num, offset, page_text))\n",
    "            offset += len(page_text)\n",
    "\n",
    "    return page_map"
   ]
  },
  {
   "cell_type": "code",
   "execution_count": 13,
   "metadata": {},
   "outputs": [],
   "source": [
    "def split_text(page_map):\n",
    "    SENTENCE_ENDINGS = [\".\", \"!\", \"?\"]\n",
    "    WORDS_BREAKS = [\",\", \";\", \":\", \" \", \"(\", \")\", \"[\", \"]\", \"{\", \"}\", \"\\t\", \"\\n\"]\n",
    "    if verbose: print(f\"Splitting '{filename}' into sections\")\n",
    "\n",
    "    def find_page(offset):\n",
    "        l = len(page_map)\n",
    "        for i in range(l - 1):\n",
    "            if offset >= page_map[i][1] and offset < page_map[i + 1][1]:\n",
    "                return i\n",
    "        return l - 1\n",
    "\n",
    "    all_text = \"\".join(p[2] for p in page_map)\n",
    "    length = len(all_text)\n",
    "    start = 0\n",
    "    end = length\n",
    "    while start + SECTION_OVERLAP < length:\n",
    "        last_word = -1\n",
    "        end = start + MAX_SECTION_LENGTH\n",
    "\n",
    "        if end > length:\n",
    "            end = length\n",
    "        else:\n",
    "            # Try to find the end of the sentence\n",
    "            while end < length and (end - start - MAX_SECTION_LENGTH) < SENTENCE_SEARCH_LIMIT and all_text[end] not in SENTENCE_ENDINGS:\n",
    "                if all_text[end] in WORDS_BREAKS:\n",
    "                    last_word = end\n",
    "                end += 1\n",
    "            if end < length and all_text[end] not in SENTENCE_ENDINGS and last_word > 0:\n",
    "                end = last_word # Fall back to at least keeping a whole word\n",
    "        if end < length:\n",
    "            end += 1\n",
    "\n",
    "        # Try to find the start of the sentence or at least a whole word boundary\n",
    "        last_word = -1\n",
    "        while start > 0 and start > end - MAX_SECTION_LENGTH - 2 * SENTENCE_SEARCH_LIMIT and all_text[start] not in SENTENCE_ENDINGS:\n",
    "            if all_text[start] in WORDS_BREAKS:\n",
    "                last_word = start\n",
    "            start -= 1\n",
    "        if all_text[start] not in SENTENCE_ENDINGS and last_word > 0:\n",
    "            start = last_word\n",
    "        if start > 0:\n",
    "            start += 1\n",
    "\n",
    "        section_text = all_text[start:end]\n",
    "        yield (section_text, find_page(start))\n",
    "\n",
    "        last_table_start = section_text.rfind(\"<table\")\n",
    "        if (last_table_start > 2 * SENTENCE_SEARCH_LIMIT and last_table_start > section_text.rfind(\"</table\")):\n",
    "            # If the section ends with an unclosed table, we need to start the next section with the table.\n",
    "            # If table starts inside SENTENCE_SEARCH_LIMIT, we ignore it, as that will cause an infinite loop for tables longer than MAX_SECTION_LENGTH\n",
    "            # If last table starts inside SECTION_OVERLAP, keep overlapping\n",
    "            if verbose: print(f\"Section ends with unclosed table, starting next section with the table at page {find_page(start)} offset {start} table start {last_table_start}\")\n",
    "            start = min(end - SECTION_OVERLAP, start + last_table_start)\n",
    "        else:\n",
    "            start = end - SECTION_OVERLAP\n",
    "        \n",
    "    if start + SECTION_OVERLAP < end:\n",
    "        yield (all_text[start:end], find_page(start))\n",
    "\n",
    "def create_sections(filename, page_map):\n",
    "    for i, (section, pagenum) in enumerate(split_text(page_map)):\n",
    "        yield {\n",
    "            \"id\": re.sub(\"[^0-9a-zA-Z_-]\",\"_\",f\"{filename}-{i}\"),\n",
    "            \"content\": section,\n",
    "            \"category\": category,\n",
    "            \"sourcepage\": blob_name_from_file_page(filename, pagenum),\n",
    "            \"sourcefile\": filename\n",
    "        }\n",
    "\n",
    "def create_search_index():\n",
    "    if verbose: print(f\"Ensuring search index {index} exists\")\n",
    "    index_client = SearchIndexClient(endpoint=f\"https://knavitpolicychatbot1.search.windows.net\",\n",
    "                                     credential=search_creds)\n",
    "    if index not in index_client.list_index_names():\n",
    "        search_index = SearchIndex(\n",
    "            name=index,\n",
    "            fields=[\n",
    "                SimpleField(name=\"id\", type=\"Edm.String\", key=True),\n",
    "                SearchableField(name=\"content\", type=\"Edm.String\", analyzer_name=\"en.microsoft\"),\n",
    "                SimpleField(name=\"category\", type=\"Edm.String\", filterable=True, facetable=True),\n",
    "                SimpleField(name=\"sourcepage\", type=\"Edm.String\", filterable=True, facetable=True),\n",
    "                SimpleField(name=\"sourcefile\", type=\"Edm.String\", filterable=True, facetable=True)\n",
    "            ],\n",
    "            semantic_settings=SemanticSettings(\n",
    "                configurations=[SemanticConfiguration(\n",
    "                    name='default',\n",
    "                    prioritized_fields=PrioritizedFields(\n",
    "                        title_field=None, prioritized_content_fields=[SemanticField(field_name='content')]))])\n",
    "        )\n",
    "        if verbose: print(f\"Creating {index} search index\")\n",
    "        index_client.create_index(search_index)\n",
    "    else:\n",
    "        if verbose: print(f\"Search index {index} already exists\")\n",
    "\n",
    "def index_sections(filename, sections):\n",
    "    if verbose: print(f\"Indexing sections from '{filename}' into search index '{index}'\")\n",
    "    search_client = SearchClient(endpoint=f\"https://knavitpolicychatbot1.search.windows.net\",\n",
    "                                    index_name=index,\n",
    "                                    credential=search_creds)\n",
    "    i = 0\n",
    "    batch = []\n",
    "    for s in sections:\n",
    "        batch.append(s)\n",
    "        i += 1\n",
    "        if i % 1000 == 0:\n",
    "            results = search_client.upload_documents(documents=batch)\n",
    "            succeeded = sum([1 for r in results if r.succeeded])\n",
    "            if verbose: print(f\"\\tIndexed {len(results)} sections, {succeeded} succeeded\")\n",
    "            batch = []\n",
    "\n",
    "    if len(batch) > 0:\n",
    "        results = search_client.upload_documents(documents=batch)\n",
    "        succeeded = sum([1 for r in results if r.succeeded])\n",
    "        if verbose: print(f\"\\tIndexed {len(results)} sections, {succeeded} succeeded\")\n",
    "\n",
    "def remove_from_index(filename):\n",
    "    if verbose: print(f\"Removing sections from '{filename or '<all>'}' from search index '{index}'\")\n",
    "    search_client = SearchClient(endpoint=f\"\",\n",
    "                                    index_name=index,\n",
    "                                    credential=search_creds)\n",
    "    while True:\n",
    "        filter = None if filename == None else f\"sourcefile eq '{os.path.basename(filename)}'\"\n",
    "        r = search_client.search(\"\", filter=filter, top=1000, include_total_count=True)\n",
    "        if r.get_count() == 0:\n",
    "            break\n",
    "        r = search_client.delete_documents(documents=[{ \"id\": d[\"id\"] } for d in r])\n",
    "        if verbose: print(f\"\\tRemoved {len(r)} sections from index\")\n",
    "        # It can take a few seconds for search results to reflect changes, so wait a bit\n",
    "        time.sleep(2)\n",
    "\n"
   ]
  },
  {
   "cell_type": "code",
   "execution_count": 14,
   "metadata": {},
   "outputs": [
    {
     "name": "stdout",
     "output_type": "stream",
     "text": [
      "Ensuring search index knavitpolicychatbot1 exists\n",
      "Search index knavitpolicychatbot1 already exists\n"
     ]
    }
   ],
   "source": [
    "create_search_index()"
   ]
  },
  {
   "cell_type": "code",
   "execution_count": 15,
   "metadata": {},
   "outputs": [
    {
     "data": {
      "text/plain": [
       "'C:\\\\Users\\\\Rupam Patil\\\\Downloads\\\\AZURE-AI-SEARCH-main\\\\docs'"
      ]
     },
     "execution_count": 15,
     "metadata": {},
     "output_type": "execute_result"
    }
   ],
   "source": [
    "FILE_PATH"
   ]
  },
  {
   "cell_type": "code",
   "execution_count": 16,
   "metadata": {},
   "outputs": [
    {
     "name": "stdout",
     "output_type": "stream",
     "text": [
      "Processing 'C:\\Users\\Rupam Patil\\Downloads\\AZURE-AI-SEARCH-main\\docs\\Information-Security-Policy.pdf'\n"
     ]
    },
    {
     "name": "stderr",
     "output_type": "stream",
     "text": [
      "Ignoring wrong pointing object 10 0 (offset 0)\n",
      "Ignoring wrong pointing object 18 0 (offset 0)\n",
      "Ignoring wrong pointing object 42 0 (offset 0)\n",
      "Ignoring wrong pointing object 45 0 (offset 0)\n",
      "Ignoring wrong pointing object 48 0 (offset 0)\n",
      "Ignoring wrong pointing object 51 0 (offset 0)\n",
      "Ignoring wrong pointing object 71 0 (offset 0)\n"
     ]
    },
    {
     "name": "stdout",
     "output_type": "stream",
     "text": [
      "\tUploading blob for page 0 -> Information-Security-Policy-0.pdf\n",
      "\tUploading blob for page 1 -> Information-Security-Policy-1.pdf\n",
      "\tUploading blob for page 2 -> Information-Security-Policy-2.pdf\n",
      "\tUploading blob for page 3 -> Information-Security-Policy-3.pdf\n",
      "\tUploading blob for page 4 -> Information-Security-Policy-4.pdf\n",
      "\tUploading blob for page 5 -> Information-Security-Policy-5.pdf\n",
      "\tUploading blob for page 6 -> Information-Security-Policy-6.pdf\n",
      "\tUploading blob for page 7 -> Information-Security-Policy-7.pdf\n",
      "\tUploading blob for page 8 -> Information-Security-Policy-8.pdf\n",
      "\tUploading blob for page 9 -> Information-Security-Policy-9.pdf\n",
      "\tUploading blob for page 10 -> Information-Security-Policy-10.pdf\n",
      "\tUploading blob for page 11 -> Information-Security-Policy-11.pdf\n",
      "\tUploading blob for page 12 -> Information-Security-Policy-12.pdf\n",
      "\tUploading blob for page 13 -> Information-Security-Policy-13.pdf\n",
      "\tUploading blob for page 14 -> Information-Security-Policy-14.pdf\n",
      "\tUploading blob for page 15 -> Information-Security-Policy-15.pdf\n",
      "\tUploading blob for page 16 -> Information-Security-Policy-16.pdf\n",
      "\tUploading blob for page 17 -> Information-Security-Policy-17.pdf\n",
      "\tUploading blob for page 18 -> Information-Security-Policy-18.pdf\n",
      "\tUploading blob for page 19 -> Information-Security-Policy-19.pdf\n",
      "\tUploading blob for page 20 -> Information-Security-Policy-20.pdf\n",
      "\tUploading blob for page 21 -> Information-Security-Policy-21.pdf\n",
      "\tUploading blob for page 22 -> Information-Security-Policy-22.pdf\n",
      "\tUploading blob for page 23 -> Information-Security-Policy-23.pdf\n",
      "\tUploading blob for page 24 -> Information-Security-Policy-24.pdf\n",
      "\tUploading blob for page 25 -> Information-Security-Policy-25.pdf\n",
      "\tUploading blob for page 26 -> Information-Security-Policy-26.pdf\n",
      "\tUploading blob for page 27 -> Information-Security-Policy-27.pdf\n",
      "\tUploading blob for page 28 -> Information-Security-Policy-28.pdf\n",
      "\tUploading blob for page 29 -> Information-Security-Policy-29.pdf\n",
      "\tUploading blob for page 30 -> Information-Security-Policy-30.pdf\n",
      "\tUploading blob for page 31 -> Information-Security-Policy-31.pdf\n",
      "\tUploading blob for page 32 -> Information-Security-Policy-32.pdf\n",
      "\tUploading blob for page 33 -> Information-Security-Policy-33.pdf\n",
      "\tUploading blob for page 34 -> Information-Security-Policy-34.pdf\n",
      "\tUploading blob for page 35 -> Information-Security-Policy-35.pdf\n",
      "\tUploading blob for page 36 -> Information-Security-Policy-36.pdf\n",
      "\tUploading blob for page 37 -> Information-Security-Policy-37.pdf\n",
      "\tUploading blob for page 38 -> Information-Security-Policy-38.pdf\n",
      "\tUploading blob for page 39 -> Information-Security-Policy-39.pdf\n",
      "\tUploading blob for page 40 -> Information-Security-Policy-40.pdf\n"
     ]
    },
    {
     "name": "stderr",
     "output_type": "stream",
     "text": [
      "Ignoring wrong pointing object 10 0 (offset 0)\n",
      "Ignoring wrong pointing object 18 0 (offset 0)\n",
      "Ignoring wrong pointing object 42 0 (offset 0)\n",
      "Ignoring wrong pointing object 45 0 (offset 0)\n",
      "Ignoring wrong pointing object 48 0 (offset 0)\n",
      "Ignoring wrong pointing object 51 0 (offset 0)\n",
      "Ignoring wrong pointing object 71 0 (offset 0)\n"
     ]
    },
    {
     "name": "stdout",
     "output_type": "stream",
     "text": [
      "Indexing sections from 'C:\\Users\\Rupam Patil\\Downloads\\AZURE-AI-SEARCH-main\\docs\\Information-Security-Policy.pdf' into search index 'knavitpolicychatbot1'\n",
      "Splitting 'C:\\Users\\Rupam Patil\\Downloads\\AZURE-AI-SEARCH-main\\docs\\Information-Security-Policy.pdf' into sections\n"
     ]
    },
    {
     "ename": "HttpResponseError",
     "evalue": "() The request is invalid. Details: The property 'id' does not exist on type 'search.documentFields' or is not present in the API version '2021-04-30-Preview'. Make sure to only use property names that are defined by the type.\nCode: \nMessage: The request is invalid. Details: The property 'id' does not exist on type 'search.documentFields' or is not present in the API version '2021-04-30-Preview'. Make sure to only use property names that are defined by the type.",
     "output_type": "error",
     "traceback": [
      "\u001b[1;31m---------------------------------------------------------------------------\u001b[0m",
      "\u001b[1;31mHttpResponseError\u001b[0m                         Traceback (most recent call last)",
      "Cell \u001b[1;32mIn[16], line 6\u001b[0m\n\u001b[0;32m      4\u001b[0m page_map \u001b[38;5;241m=\u001b[39m get_document_text(filename)\n\u001b[0;32m      5\u001b[0m sections \u001b[38;5;241m=\u001b[39m create_sections(filename, page_map)\n\u001b[1;32m----> 6\u001b[0m \u001b[43mindex_sections\u001b[49m\u001b[43m(\u001b[49m\u001b[43mfilename\u001b[49m\u001b[43m,\u001b[49m\u001b[43m \u001b[49m\u001b[43msections\u001b[49m\u001b[43m)\u001b[49m\n",
      "Cell \u001b[1;32mIn[13], line 113\u001b[0m, in \u001b[0;36mindex_sections\u001b[1;34m(filename, sections)\u001b[0m\n\u001b[0;32m    110\u001b[0m         batch \u001b[38;5;241m=\u001b[39m []\n\u001b[0;32m    112\u001b[0m \u001b[38;5;28;01mif\u001b[39;00m \u001b[38;5;28mlen\u001b[39m(batch) \u001b[38;5;241m>\u001b[39m \u001b[38;5;241m0\u001b[39m:\n\u001b[1;32m--> 113\u001b[0m     results \u001b[38;5;241m=\u001b[39m \u001b[43msearch_client\u001b[49m\u001b[38;5;241;43m.\u001b[39;49m\u001b[43mupload_documents\u001b[49m\u001b[43m(\u001b[49m\u001b[43mdocuments\u001b[49m\u001b[38;5;241;43m=\u001b[39;49m\u001b[43mbatch\u001b[49m\u001b[43m)\u001b[49m\n\u001b[0;32m    114\u001b[0m     succeeded \u001b[38;5;241m=\u001b[39m \u001b[38;5;28msum\u001b[39m([\u001b[38;5;241m1\u001b[39m \u001b[38;5;28;01mfor\u001b[39;00m r \u001b[38;5;129;01min\u001b[39;00m results \u001b[38;5;28;01mif\u001b[39;00m r\u001b[38;5;241m.\u001b[39msucceeded])\n\u001b[0;32m    115\u001b[0m     \u001b[38;5;28;01mif\u001b[39;00m verbose: \u001b[38;5;28mprint\u001b[39m(\u001b[38;5;124mf\u001b[39m\u001b[38;5;124m\"\u001b[39m\u001b[38;5;130;01m\\t\u001b[39;00m\u001b[38;5;124mIndexed \u001b[39m\u001b[38;5;132;01m{\u001b[39;00m\u001b[38;5;28mlen\u001b[39m(results)\u001b[38;5;132;01m}\u001b[39;00m\u001b[38;5;124m sections, \u001b[39m\u001b[38;5;132;01m{\u001b[39;00msucceeded\u001b[38;5;132;01m}\u001b[39;00m\u001b[38;5;124m succeeded\u001b[39m\u001b[38;5;124m\"\u001b[39m)\n",
      "File \u001b[1;32mc:\\Users\\Rupam Patil\\AppData\\Local\\Programs\\Python\\Python313\\Lib\\site-packages\\azure\\search\\documents\\_search_client.py:522\u001b[0m, in \u001b[0;36mSearchClient.upload_documents\u001b[1;34m(self, documents, **kwargs)\u001b[0m\n\u001b[0;32m    519\u001b[0m batch\u001b[38;5;241m.\u001b[39madd_upload_actions(documents)\n\u001b[0;32m    521\u001b[0m kwargs[\u001b[38;5;124m\"\u001b[39m\u001b[38;5;124mheaders\u001b[39m\u001b[38;5;124m\"\u001b[39m] \u001b[38;5;241m=\u001b[39m \u001b[38;5;28mself\u001b[39m\u001b[38;5;241m.\u001b[39m_merge_client_headers(kwargs\u001b[38;5;241m.\u001b[39mget(\u001b[38;5;124m\"\u001b[39m\u001b[38;5;124mheaders\u001b[39m\u001b[38;5;124m\"\u001b[39m))\n\u001b[1;32m--> 522\u001b[0m results \u001b[38;5;241m=\u001b[39m \u001b[38;5;28;43mself\u001b[39;49m\u001b[38;5;241;43m.\u001b[39;49m\u001b[43mindex_documents\u001b[49m\u001b[43m(\u001b[49m\u001b[43mbatch\u001b[49m\u001b[43m,\u001b[49m\u001b[43m \u001b[49m\u001b[38;5;241;43m*\u001b[39;49m\u001b[38;5;241;43m*\u001b[39;49m\u001b[43mkwargs\u001b[49m\u001b[43m)\u001b[49m\n\u001b[0;32m    523\u001b[0m \u001b[38;5;28;01mreturn\u001b[39;00m cast(List[IndexingResult], results)\n",
      "File \u001b[1;32mc:\\Users\\Rupam Patil\\AppData\\Local\\Programs\\Python\\Python313\\Lib\\site-packages\\azure\\core\\tracing\\decorator.py:119\u001b[0m, in \u001b[0;36mdistributed_trace.<locals>.decorator.<locals>.wrapper_use_tracer\u001b[1;34m(*args, **kwargs)\u001b[0m\n\u001b[0;32m    117\u001b[0m \u001b[38;5;66;03m# If tracing is disabled globally and user didn't explicitly enable it, don't trace.\u001b[39;00m\n\u001b[0;32m    118\u001b[0m \u001b[38;5;28;01mif\u001b[39;00m user_enabled \u001b[38;5;129;01mis\u001b[39;00m \u001b[38;5;28;01mFalse\u001b[39;00m \u001b[38;5;129;01mor\u001b[39;00m (\u001b[38;5;129;01mnot\u001b[39;00m tracing_enabled \u001b[38;5;129;01mand\u001b[39;00m user_enabled \u001b[38;5;129;01mis\u001b[39;00m \u001b[38;5;28;01mNone\u001b[39;00m):\n\u001b[1;32m--> 119\u001b[0m     \u001b[38;5;28;01mreturn\u001b[39;00m \u001b[43mfunc\u001b[49m\u001b[43m(\u001b[49m\u001b[38;5;241;43m*\u001b[39;49m\u001b[43margs\u001b[49m\u001b[43m,\u001b[49m\u001b[43m \u001b[49m\u001b[38;5;241;43m*\u001b[39;49m\u001b[38;5;241;43m*\u001b[39;49m\u001b[43mkwargs\u001b[49m\u001b[43m)\u001b[49m\n\u001b[0;32m    121\u001b[0m \u001b[38;5;66;03m# Merge span is parameter is set, but only if no explicit parent are passed\u001b[39;00m\n\u001b[0;32m    122\u001b[0m \u001b[38;5;28;01mif\u001b[39;00m merge_span \u001b[38;5;129;01mand\u001b[39;00m \u001b[38;5;129;01mnot\u001b[39;00m passed_in_parent:\n",
      "File \u001b[1;32mc:\\Users\\Rupam Patil\\AppData\\Local\\Programs\\Python\\Python313\\Lib\\site-packages\\azure\\search\\documents\\_search_client.py:613\u001b[0m, in \u001b[0;36mSearchClient.index_documents\u001b[1;34m(self, batch, **kwargs)\u001b[0m\n\u001b[0;32m    604\u001b[0m \u001b[38;5;129m@distributed_trace\u001b[39m\n\u001b[0;32m    605\u001b[0m \u001b[38;5;28;01mdef\u001b[39;00m \u001b[38;5;21mindex_documents\u001b[39m(\u001b[38;5;28mself\u001b[39m, batch: IndexDocumentsBatch, \u001b[38;5;241m*\u001b[39m\u001b[38;5;241m*\u001b[39mkwargs: Any) \u001b[38;5;241m-\u001b[39m\u001b[38;5;241m>\u001b[39m List[IndexingResult]:\n\u001b[0;32m    606\u001b[0m \u001b[38;5;250m    \u001b[39m\u001b[38;5;124;03m\"\"\"Specify a document operations to perform as a batch.\u001b[39;00m\n\u001b[0;32m    607\u001b[0m \n\u001b[0;32m    608\u001b[0m \u001b[38;5;124;03m    :param batch: A batch of document operations to perform.\u001b[39;00m\n\u001b[1;32m   (...)\u001b[0m\n\u001b[0;32m    611\u001b[0m \u001b[38;5;124;03m    :raises :class:`~azure.search.documents.RequestEntityTooLargeError`\u001b[39;00m\n\u001b[0;32m    612\u001b[0m \u001b[38;5;124;03m    \"\"\"\u001b[39;00m\n\u001b[1;32m--> 613\u001b[0m     \u001b[38;5;28;01mreturn\u001b[39;00m \u001b[38;5;28;43mself\u001b[39;49m\u001b[38;5;241;43m.\u001b[39;49m\u001b[43m_index_documents_actions\u001b[49m\u001b[43m(\u001b[49m\u001b[43mactions\u001b[49m\u001b[38;5;241;43m=\u001b[39;49m\u001b[43mbatch\u001b[49m\u001b[38;5;241;43m.\u001b[39;49m\u001b[43mactions\u001b[49m\u001b[43m,\u001b[49m\u001b[43m \u001b[49m\u001b[38;5;241;43m*\u001b[39;49m\u001b[38;5;241;43m*\u001b[39;49m\u001b[43mkwargs\u001b[49m\u001b[43m)\u001b[49m\n",
      "File \u001b[1;32mc:\\Users\\Rupam Patil\\AppData\\Local\\Programs\\Python\\Python313\\Lib\\site-packages\\azure\\search\\documents\\_search_client.py:621\u001b[0m, in \u001b[0;36mSearchClient._index_documents_actions\u001b[1;34m(self, actions, **kwargs)\u001b[0m\n\u001b[0;32m    619\u001b[0m batch \u001b[38;5;241m=\u001b[39m IndexBatch(actions\u001b[38;5;241m=\u001b[39mactions)\n\u001b[0;32m    620\u001b[0m \u001b[38;5;28;01mtry\u001b[39;00m:\n\u001b[1;32m--> 621\u001b[0m     batch_response \u001b[38;5;241m=\u001b[39m \u001b[38;5;28;43mself\u001b[39;49m\u001b[38;5;241;43m.\u001b[39;49m\u001b[43m_client\u001b[49m\u001b[38;5;241;43m.\u001b[39;49m\u001b[43mdocuments\u001b[49m\u001b[38;5;241;43m.\u001b[39;49m\u001b[43mindex\u001b[49m\u001b[43m(\u001b[49m\n\u001b[0;32m    622\u001b[0m \u001b[43m        \u001b[49m\u001b[43mbatch\u001b[49m\u001b[38;5;241;43m=\u001b[39;49m\u001b[43mbatch\u001b[49m\u001b[43m,\u001b[49m\u001b[43m \u001b[49m\u001b[43merror_map\u001b[49m\u001b[38;5;241;43m=\u001b[39;49m\u001b[43merror_map\u001b[49m\u001b[43m,\u001b[49m\u001b[43m \u001b[49m\u001b[38;5;241;43m*\u001b[39;49m\u001b[38;5;241;43m*\u001b[39;49m\u001b[43mkwargs\u001b[49m\n\u001b[0;32m    623\u001b[0m \u001b[43m    \u001b[49m\u001b[43m)\u001b[49m\n\u001b[0;32m    624\u001b[0m     \u001b[38;5;28;01mreturn\u001b[39;00m cast(List[IndexingResult], batch_response\u001b[38;5;241m.\u001b[39mresults)\n\u001b[0;32m    625\u001b[0m \u001b[38;5;28;01mexcept\u001b[39;00m RequestEntityTooLargeError:\n",
      "File \u001b[1;32mc:\\Users\\Rupam Patil\\AppData\\Local\\Programs\\Python\\Python313\\Lib\\site-packages\\azure\\core\\tracing\\decorator.py:119\u001b[0m, in \u001b[0;36mdistributed_trace.<locals>.decorator.<locals>.wrapper_use_tracer\u001b[1;34m(*args, **kwargs)\u001b[0m\n\u001b[0;32m    117\u001b[0m \u001b[38;5;66;03m# If tracing is disabled globally and user didn't explicitly enable it, don't trace.\u001b[39;00m\n\u001b[0;32m    118\u001b[0m \u001b[38;5;28;01mif\u001b[39;00m user_enabled \u001b[38;5;129;01mis\u001b[39;00m \u001b[38;5;28;01mFalse\u001b[39;00m \u001b[38;5;129;01mor\u001b[39;00m (\u001b[38;5;129;01mnot\u001b[39;00m tracing_enabled \u001b[38;5;129;01mand\u001b[39;00m user_enabled \u001b[38;5;129;01mis\u001b[39;00m \u001b[38;5;28;01mNone\u001b[39;00m):\n\u001b[1;32m--> 119\u001b[0m     \u001b[38;5;28;01mreturn\u001b[39;00m \u001b[43mfunc\u001b[49m\u001b[43m(\u001b[49m\u001b[38;5;241;43m*\u001b[39;49m\u001b[43margs\u001b[49m\u001b[43m,\u001b[49m\u001b[43m \u001b[49m\u001b[38;5;241;43m*\u001b[39;49m\u001b[38;5;241;43m*\u001b[39;49m\u001b[43mkwargs\u001b[49m\u001b[43m)\u001b[49m\n\u001b[0;32m    121\u001b[0m \u001b[38;5;66;03m# Merge span is parameter is set, but only if no explicit parent are passed\u001b[39;00m\n\u001b[0;32m    122\u001b[0m \u001b[38;5;28;01mif\u001b[39;00m merge_span \u001b[38;5;129;01mand\u001b[39;00m \u001b[38;5;129;01mnot\u001b[39;00m passed_in_parent:\n",
      "File \u001b[1;32mc:\\Users\\Rupam Patil\\AppData\\Local\\Programs\\Python\\Python313\\Lib\\site-packages\\azure\\search\\documents\\_generated\\operations\\_documents_operations.py:1238\u001b[0m, in \u001b[0;36mDocumentsOperations.index\u001b[1;34m(self, batch, request_options, **kwargs)\u001b[0m\n\u001b[0;32m   1236\u001b[0m     map_error(status_code\u001b[38;5;241m=\u001b[39mresponse\u001b[38;5;241m.\u001b[39mstatus_code, response\u001b[38;5;241m=\u001b[39mresponse, error_map\u001b[38;5;241m=\u001b[39merror_map)\n\u001b[0;32m   1237\u001b[0m     error \u001b[38;5;241m=\u001b[39m \u001b[38;5;28mself\u001b[39m\u001b[38;5;241m.\u001b[39m_deserialize\u001b[38;5;241m.\u001b[39mfailsafe_deserialize(_models\u001b[38;5;241m.\u001b[39mSearchError, pipeline_response)\n\u001b[1;32m-> 1238\u001b[0m     \u001b[38;5;28;01mraise\u001b[39;00m HttpResponseError(response\u001b[38;5;241m=\u001b[39mresponse, model\u001b[38;5;241m=\u001b[39merror)\n\u001b[0;32m   1240\u001b[0m \u001b[38;5;28;01mif\u001b[39;00m response\u001b[38;5;241m.\u001b[39mstatus_code \u001b[38;5;241m==\u001b[39m \u001b[38;5;241m200\u001b[39m:\n\u001b[0;32m   1241\u001b[0m     deserialized \u001b[38;5;241m=\u001b[39m \u001b[38;5;28mself\u001b[39m\u001b[38;5;241m.\u001b[39m_deserialize(\u001b[38;5;124m\"\u001b[39m\u001b[38;5;124mIndexDocumentsResult\u001b[39m\u001b[38;5;124m\"\u001b[39m, pipeline_response)\n",
      "\u001b[1;31mHttpResponseError\u001b[0m: () The request is invalid. Details: The property 'id' does not exist on type 'search.documentFields' or is not present in the API version '2021-04-30-Preview'. Make sure to only use property names that are defined by the type.\nCode: \nMessage: The request is invalid. Details: The property 'id' does not exist on type 'search.documentFields' or is not present in the API version '2021-04-30-Preview'. Make sure to only use property names that are defined by the type."
     ]
    }
   ],
   "source": [
    "for filename in glob.glob(FILE_PATH + \"/*.pdf\"):\n",
    "    if verbose: print(f\"Processing '{filename}'\")\n",
    "    upload_blobs(filename)\n",
    "    page_map = get_document_text(filename)\n",
    "    sections = create_sections(filename, page_map)\n",
    "    index_sections(filename, sections)"
   ]
  },
  {
   "cell_type": "code",
   "execution_count": null,
   "metadata": {},
   "outputs": [],
   "source": []
  }
 ],
 "metadata": {
  "kernelspec": {
   "display_name": "Python 3",
   "language": "python",
   "name": "python3"
  },
  "language_info": {
   "codemirror_mode": {
    "name": "ipython",
    "version": 3
   },
   "file_extension": ".py",
   "mimetype": "text/x-python",
   "name": "python",
   "nbconvert_exporter": "python",
   "pygments_lexer": "ipython3",
   "version": "3.13.1"
  }
 },
 "nbformat": 4,
 "nbformat_minor": 2
}
